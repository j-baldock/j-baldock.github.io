{
  "cells": [
    {
      "cell_type": "markdown",
      "metadata": {},
      "source": [
        "---\n",
        "title: \"Curriculum vitae\"\n",
        "format: html\n",
        "published-title: CV last updated\n",
        "date: 2025-04-01\n",
        "cv:\n",
        "  pdf: \"Baldock_CV_April2025.pdf\"\n",
        "---\n",
        "\n",
        "```{css echo=FALSE}\n",
        ".embed-container {\n",
        "    position: relative;\n",
        "    padding-bottom: 129%;\n",
        "    height: 0;\n",
        "    overflow: hidden;\n",
        "    max-width: 100%;\n",
        "}\n",
        "\n",
        ".embed-container iframe,\n",
        ".embed-container object,\n",
        ".embed-container embed {\n",
        "    position: absolute;\n",
        "    top: 0;\n",
        "    left: 0;\n",
        "    width: 100%;\n",
        "    height: 100%;\n",
        "}\n",
        "```\n",
        "\n",
        "```{=html}\n",
        "<p class=\"text-center\">\n",
        "  <a class=\"btn btn-primary btn-lg cv-download\" href=\"Baldock_CV_April2025.pdf\" target=\"_blank\">\n",
        "    <i class=\"fa-solid fa-file-arrow-down\"></i>&ensp;Download current CV\n",
        "  </a>\n",
        "</p>\n",
        "\n",
        "<div class=\"embed-container\">\n",
        "  <iframe src=\"Baldock_CV_April2025.pdf\" style=\"border: 0.5px\"></iframe>\n",
        "</div>\n",
        "```"
      ],
      "id": "413b1242"
    }
  ],
  "metadata": {
    "kernelspec": {
      "name": "python3",
      "language": "python",
      "display_name": "Python 3 (ipykernel)",
      "path": "C:\\Users\\jbaldock\\AppData\\Local\\Programs\\Python\\Python313\\share\\jupyter\\kernels\\python3"
    }
  },
  "nbformat": 4,
  "nbformat_minor": 5
}